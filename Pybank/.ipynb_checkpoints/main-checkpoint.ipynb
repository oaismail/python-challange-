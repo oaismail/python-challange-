{
 "cells": [
  {
   "cell_type": "code",
   "execution_count": null,
   "id": "f92b4f76-ec46-4368-8e91-6c0d0924d4c0",
   "metadata": {},
   "outputs": [],
   "source": [
    "# accessing the csv file with the right path "
   ]
  },
  {
   "cell_type": "code",
   "execution_count": null,
   "id": "5e1ba6b9-c1ee-4ed5-901d-03028d935df7",
   "metadata": {},
   "outputs": [],
   "source": [
    "from pathlib import Path\n",
    "import csv"
   ]
  },
  {
   "cell_type": "code",
   "execution_count": 114,
   "id": "69194dc7-5941-4c0a-8cc0-5c9e4bfb0bda",
   "metadata": {},
   "outputs": [
    {
     "data": {
      "text/plain": [
       "'/Users/omarismail/Documents/python/project'"
      ]
     },
     "execution_count": 114,
     "metadata": {},
     "output_type": "execute_result"
    }
   ],
   "source": [
    "pwd"
   ]
  },
  {
   "cell_type": "code",
   "execution_count": 115,
   "id": "499ac364-c1f9-4cd1-9461-513d721f6eb7",
   "metadata": {},
   "outputs": [],
   "source": [
    "csvpath = Path ('budget_data.csv')"
   ]
  },
  {
   "cell_type": "code",
   "execution_count": 116,
   "id": "ecb8d050-2469-4e47-bb9e-76b3662729a1",
   "metadata": {},
   "outputs": [],
   "source": [
    "# Giving variables to work with"
   ]
  },
  {
   "cell_type": "code",
   "execution_count": 205,
   "id": "2d94344b-60fb-475e-835c-f92941195845",
   "metadata": {},
   "outputs": [],
   "source": [
    "profit_losses = []\n",
    "monthly_net_list = []\n",
    "net_total = 0\n",
    "total_net_change = 0 \n",
    "previous_month = 0 "
   ]
  },
  {
   "cell_type": "code",
   "execution_count": 206,
   "id": "6b9dcf12-ec5c-4585-a8c6-84e1802f702f",
   "metadata": {},
   "outputs": [],
   "source": [
    "# The total number of months "
   ]
  },
  {
   "cell_type": "code",
   "execution_count": 207,
   "id": "b9379338-ba23-4704-9755-3aca1e089f39",
   "metadata": {},
   "outputs": [
    {
     "name": "stdout",
     "output_type": "stream",
     "text": [
      "Number_of_total_months:- 86\n"
     ]
    }
   ],
   "source": [
    "with open (csvpath, 'r') as csvfile:\n",
    "    csvreader = csv.reader(csvfile, delimiter = ',')\n",
    "    for row in csvreader:\n",
    "        Number_of_months = len(list(csvfile))\n",
    "        print ('Number_of_total_months:-',(Number_of_months))"
   ]
  },
  {
   "cell_type": "code",
   "execution_count": 208,
   "id": "143dacbf-e9df-40c5-8df5-7ba500624e01",
   "metadata": {},
   "outputs": [],
   "source": [
    "# Total netwoth of profit/losses"
   ]
  },
  {
   "cell_type": "code",
   "execution_count": 209,
   "id": "46f2c665-8949-403c-8310-6458f544746d",
   "metadata": {},
   "outputs": [
    {
     "name": "stdout",
     "output_type": "stream",
     "text": [
      "The total amount of Profits/Losses is 37514694\n"
     ]
    }
   ],
   "source": [
    "with open (csvpath, 'r') as csvfile:\n",
    "    csvreader = csv.reader(csvfile, delimiter = ',')\n",
    "    header = next(csvreader)\n",
    "    for row in csvreader:\n",
    "        net = sum (int(row[1]) for row in csvreader)\n",
    "        print (f\"The total amount of Profits/Losses is {net}\")"
   ]
  },
  {
   "cell_type": "code",
   "execution_count": 210,
   "id": "12ba3ab9-9d13-4674-b287-3e320192368d",
   "metadata": {},
   "outputs": [],
   "source": [
    "# Finding the monthly chagnes, greastest increase and decrease"
   ]
  },
  {
   "cell_type": "code",
   "execution_count": 211,
   "id": "ff7d8bc6-d99e-4514-bac3-5040d9bd8792",
   "metadata": {},
   "outputs": [],
   "source": [
    "with open (csvpath, 'r') as csvfile:\n",
    "    csvreader = csv.reader(csvfile, delimiter = ',')\n",
    "    header = next(csvreader)\n",
    "    profit_losses.append(row[1])\n",
    "    for row in csvreader:\n",
    "        net_total= net_total + int(row[1])\n",
    "        monthly_net = int(row[1])\n",
    "        monthly_net_change = monthly_net - int(previous_month)\n",
    "        previous_month = (row[1])\n",
    "        monthly_net_list.append(monthly_net_change)\n",
    "        total_net_change = total_net_change + monthly_net_change\n",
    "        average_net_change = (total_net_change/Number_of_months)\n",
    "        monthly_net_list.sort()\n",
    "        "
   ]
  },
  {
   "cell_type": "code",
   "execution_count": 212,
   "id": "34f8ae83-946e-4515-bfe1-f26f3f374f01",
   "metadata": {},
   "outputs": [
    {
     "name": "stdout",
     "output_type": "stream",
     "text": [
      "Average  Change:- $ 7803.476744186047\n",
      "Greatest Increase in Profits:- $ 1926159\n",
      "Greatest Decrease in Profits:- $ -2196167\n"
     ]
    }
   ],
   "source": [
    "print (\"Average  Change:-\", \"$\", (average_net_change))\n",
    "print (\"Greatest Increase in Profits:-\", \"$\",(monthly_net_list[-1]))\n",
    "print (\"Greatest Decrease in Profits:-\", \"$\", (monthly_net_list[0]))"
   ]
  },
  {
   "cell_type": "code",
   "execution_count": 128,
   "id": "2a193754-8e48-4bfa-9a40-f2d3ac7edc41",
   "metadata": {},
   "outputs": [],
   "source": [
    "# I tried mutiple ways to find the date that correlates with the greatest increase or decrease but i couldn't. I dit creat a list of the dates, but then I couldn't find a way to recall the date) "
   ]
  },
  {
   "cell_type": "code",
   "execution_count": 133,
   "id": "79d52d7f-bd0b-4fd0-b003-cb7f33d1d904",
   "metadata": {},
   "outputs": [
    {
     "name": "stdout",
     "output_type": "stream",
     "text": [
      "Financial Analysis\n",
      " ----------------------------\n",
      "Number_of_total_months:- 86\n",
      "The total amount of Profits/Losses is 37514694\n",
      "Average  Change:- $ 7803.476744186047\n",
      "Greatest Increase in Profits:- $ 1926159\n",
      "Greatest Decrease in Profits:- $ -2196167\n"
     ]
    }
   ],
   "source": [
    "print (\"Financial Analysis\")\n",
    "print (\" ----------------------------\")\n",
    "print ('Number_of_total_months:-',(Number_of_months))\n",
    "print (f\"The total amount of Profits/Losses is {net}\")\n",
    "print (\"Average  Change:-\", \"$\", (average_net_change))\n",
    "print (\"Greatest Increase in Profits:-\", \"$\",(monthly_net_list[-1]))\n",
    "print (\"Greatest Decrease in Profits:-\", \"$\", (monthly_net_list[0]))"
   ]
  },
  {
   "cell_type": "code",
   "execution_count": 213,
   "id": "b89d102a-8750-4d11-b8bb-a032e2e1259f",
   "metadata": {},
   "outputs": [],
   "source": [
    "output_path = Path('python-challange-/Pybank/output.csv')"
   ]
  },
  {
   "cell_type": "code",
   "execution_count": 204,
   "id": "7b563bb8-d8ce-4006-a5e2-c0d146a29f5d",
   "metadata": {},
   "outputs": [
    {
     "ename": "TypeError",
     "evalue": "'str' object is not callable",
     "output_type": "error",
     "traceback": [
      "\u001b[0;31m---------------------------------------------------------------------------\u001b[0m",
      "\u001b[0;31mTypeError\u001b[0m                                 Traceback (most recent call last)",
      "\u001b[0;32m/var/folders/zh/nww2ym3x0cbfytq7xxn20z7w0000gn/T/ipykernel_28297/750686795.py\u001b[0m in \u001b[0;36m<module>\u001b[0;34m\u001b[0m\n\u001b[1;32m      3\u001b[0m     \u001b[0mcsvfile\u001b[0m\u001b[0;34m.\u001b[0m\u001b[0mwrite\u001b[0m\u001b[0;34m(\u001b[0m\u001b[0;34m\"Financial Analysis\"\u001b[0m\u001b[0;34m)\u001b[0m\u001b[0;34m\u001b[0m\u001b[0;34m\u001b[0m\u001b[0m\n\u001b[1;32m      4\u001b[0m     \u001b[0mcsvfile\u001b[0m\u001b[0;34m.\u001b[0m\u001b[0mwrite\u001b[0m\u001b[0;34m(\u001b[0m\u001b[0;34m\" ----------------------------\"\u001b[0m\u001b[0;34m)\u001b[0m\u001b[0;34m\u001b[0m\u001b[0;34m\u001b[0m\u001b[0m\n\u001b[0;32m----> 5\u001b[0;31m     \u001b[0mcsvfile\u001b[0m\u001b[0;34m.\u001b[0m\u001b[0mwrite\u001b[0m\u001b[0;34m(\u001b[0m\u001b[0;34m\"Average  Change:-\"\u001b[0m \u001b[0;34m\"$\"\u001b[0m \u001b[0;34m(\u001b[0m\u001b[0maverage_net_change\u001b[0m\u001b[0;34m)\u001b[0m\u001b[0;34m)\u001b[0m\u001b[0;34m\u001b[0m\u001b[0;34m\u001b[0m\u001b[0m\n\u001b[0m",
      "\u001b[0;31mTypeError\u001b[0m: 'str' object is not callable"
     ]
    }
   ],
   "source": [
    "with open (output_path, 'w') as csvfile:\n",
    "    csvwriter = csv.writer(csvfile, delimiter = ',')\n",
    "    csvfile.write(\"Financial Analysis\")\n",
    "    csvfile.write(\" ----------------------------\")\n",
    "    csvfile.write(\"Average  Change:-\" \"$\" (average_net_change))"
   ]
  },
  {
   "cell_type": "code",
   "execution_count": null,
   "id": "1037e567-b4a4-489b-8e5a-350bc44ea2e0",
   "metadata": {},
   "outputs": [],
   "source": []
  },
  {
   "cell_type": "code",
   "execution_count": null,
   "id": "d2a05c52-873e-47d7-ab15-437ecbaab6d2",
   "metadata": {},
   "outputs": [],
   "source": []
  }
 ],
 "metadata": {
  "kernelspec": {
   "display_name": "Python 3 (ipykernel)",
   "language": "python",
   "name": "python3"
  },
  "language_info": {
   "codemirror_mode": {
    "name": "ipython",
    "version": 3
   },
   "file_extension": ".py",
   "mimetype": "text/x-python",
   "name": "python",
   "nbconvert_exporter": "python",
   "pygments_lexer": "ipython3",
   "version": "3.7.13"
  }
 },
 "nbformat": 4,
 "nbformat_minor": 5
}
